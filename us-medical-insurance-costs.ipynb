{
 "cells": [
  {
   "cell_type": "markdown",
   "metadata": {},
   "source": [
    "# U.S. Medical Insurance Costs"
   ]
  },
  {
   "cell_type": "code",
   "execution_count": 25,
   "metadata": {},
   "outputs": [],
   "source": [
    "# Extract info from csv file into variable to use data\n",
    "import csv\n",
    "age = []\n",
    "sex = []\n",
    "bmi = []\n",
    "children = []\n",
    "smoker = []\n",
    "region = []\n",
    "charges = []\n",
    "with open(\"insurance.csv\") as insurance_costs:\n",
    "    costs_reader = csv.DictReader(insurance_costs)\n",
    "    for row in costs_reader:\n",
    "        age.append(int(row['age']))\n",
    "        sex.append(row['sex'])\n",
    "        bmi.append(float(row['bmi']))\n",
    "        children.append(int(row['children']))\n",
    "        smoker.append(row['smoker'])\n",
    "        region.append(row['region'])\n",
    "        charges.append(float(row['charges']))\n"
   ]
  },
  {
   "cell_type": "code",
   "execution_count": 26,
   "metadata": {},
   "outputs": [
    {
     "name": "stdout",
     "output_type": "stream",
     "text": [
      "The average amount of smokers over 30 is 0.2 and non-smokers is 0.8\n",
      "The average amount of smokers under 30 is 0.21 and non-smokers is 0.79\n",
      "The total average of smokers is 0.2\n"
     ]
    }
   ],
   "source": [
    "#Create list of age and smoker / non-smoker to see average of smoker and non smoker over and below 30 years of age\n",
    "age_smoker = zip(age, smoker)\n",
    "age_smoker_list = list(age_smoker)\n",
    "\n",
    "def smoker_groups(age_smoker):\n",
    "    over_thirty_smoker = 0\n",
    "    over_thirty_non_smoker = 0\n",
    "   \n",
    "    under_thirty_smoker = 0\n",
    "    under_thirty_non_smoker = 0\n",
    "    \n",
    "    for age in age_smoker:\n",
    "        if age[0] <= 30:\n",
    "            if age[1] == 'yes':\n",
    "                under_thirty_smoker += 1\n",
    "            else:\n",
    "                under_thirty_non_smoker += 1\n",
    "        elif age[0] > 30:\n",
    "            if age[1] == 'yes':\n",
    "                over_thirty_smoker += 1\n",
    "            else:\n",
    "                over_thirty_non_smoker += 1   \n",
    "    \n",
    "    #average smokers over thirty\n",
    "    over_thirty_total = over_thirty_smoker + over_thirty_non_smoker\n",
    "    over_thirty_smoker_avg = over_thirty_smoker / over_thirty_total\n",
    "    over_thirty_non_smoker_avg = over_thirty_non_smoker / over_thirty_total\n",
    "    print(\"The average amount of smokers over 30 is \" + str(round(over_thirty_smoker_avg, 2)) + \" and non-smokers is \" + str(round(over_thirty_non_smoker_avg, 2)) )\n",
    "    \n",
    "    #average smokers under thirty\n",
    "    under_thirty_total = under_thirty_smoker + under_thirty_non_smoker\n",
    "    under_thirty_smoker_avg = under_thirty_smoker / under_thirty_total\n",
    "    under_thirty_non_smoker_avg = under_thirty_non_smoker / under_thirty_total\n",
    "    print(\"The average amount of smokers under 30 is \" + str(round(under_thirty_smoker_avg, 2)) + \" and non-smokers is \" + str(round(under_thirty_non_smoker_avg, 2)) )\n",
    "    \n",
    "    #average smokers overall\n",
    "    total_smokers_avg = (over_thirty_smoker+ under_thirty_smoker)/len(age_smoker)\n",
    "    print(\"The total average of smokers is \" + str(round(total_smokers_avg,2 )))\n",
    "    \n",
    "    \n",
    "smoker_groups(age_smoker_list)"
   ]
  },
  {
   "cell_type": "code",
   "execution_count": 137,
   "metadata": {},
   "outputs": [
    {
     "name": "stdout",
     "output_type": "stream",
     "text": [
      "The average age of the clients is 39.21\n"
     ]
    }
   ],
   "source": [
    "#Average age of customers\n",
    "def average_age(age):\n",
    "    total_age = 0\n",
    "    for i in age:\n",
    "        total_age += i\n",
    "    avg_age = round(total_age / len(age), 2)\n",
    "    print(\"The average age of the clients is \" + str(avg_age))\n",
    "\n",
    "average_age(age)"
   ]
  },
  {
   "cell_type": "code",
   "execution_count": 55,
   "metadata": {},
   "outputs": [
    {
     "name": "stdout",
     "output_type": "stream",
     "text": [
      "The average cost for clients with no children that are non-smokers is 7611.79\n",
      "The average cost for clients with 1 child that are non-smokers is 8303.11\n",
      "The average cost for clients with 2 or more children that are non-smokers is 9638.98\n"
     ]
    }
   ],
   "source": [
    "#Average insurance cost with 0 children / 1 child / 2 or more kids and non smoker\n",
    "def avg_ins_cost_child(children, charges, smoker):\n",
    "    \n",
    "    child_cost_dict = {}\n",
    "    zero_children = 0\n",
    "    zero_children_cost = 0\n",
    "    one_child = 0\n",
    "    one_child_cost = 0\n",
    "    two_or_more = 0\n",
    "    two_or_more_cost = 0\n",
    "\n",
    "    for each in range(0,len(smoker)):\n",
    "        test = {\"smoker\": smoker[each], \"children\": children[each], \"charges\": charges[each]}\n",
    "        child_cost_dict[each] = test\n",
    "    \n",
    "    for client in child_cost_dict:\n",
    "        if child_cost_dict[client]['smoker'] == 'no':\n",
    "            if child_cost_dict[client]['children'] == 0:\n",
    "                zero_children_cost += child_cost_dict[client]['charges']\n",
    "                zero_children += 1\n",
    "            elif child_cost_dict[client]['children'] == 1:\n",
    "                one_child_cost += child_cost_dict[client]['charges']\n",
    "                one_child += 1\n",
    "            elif child_cost_dict[client]['children'] >= 2:\n",
    "                two_or_more_cost += child_cost_dict[client]['charges']\n",
    "                two_or_more += 1\n",
    "    \n",
    "    avg_cost_zero = zero_children_cost / zero_children\n",
    "    avg_cost_one = one_child_cost / one_child\n",
    "    avg_cost_two_more = two_or_more_cost / two_or_more\n",
    "    \n",
    "    print(\"The average cost for clients with no children that are non-smokers is \" + str(round(avg_cost_zero,2)))\n",
    "    print(\"The average cost for clients with 1 child that are non-smokers is \" + str(round(avg_cost_one,2)))\n",
    "    print(\"The average cost for clients with 2 or more children that are non-smokers is \" + str(round(avg_cost_two_more,2)))\n",
    "\n",
    "    \n",
    "avg_ins_cost_child(children, charges, smoker)"
   ]
  },
  {
   "cell_type": "code",
   "execution_count": 140,
   "metadata": {},
   "outputs": [
    {
     "name": "stdout",
     "output_type": "stream",
     "text": [
      "The totals for all areas are {'southwest': 325, 'southeast': 364, 'northwest': 325, 'northeast': 324}\n"
     ]
    }
   ],
   "source": [
    "#find areas with most clients\n",
    "def get_regions(region):\n",
    "    regions_list = []\n",
    "    regions_dict = {}      \n",
    "\n",
    "    for area in region:\n",
    "        if area not in regions_list:\n",
    "            regions_list.append(area)\n",
    "    \n",
    "    for i in regions_list:\n",
    "        regions_dict[i] = 0\n",
    "\n",
    "    for count in region:\n",
    "        regions_dict[count] += 1\n",
    "    \n",
    "    print(\"The totals for all areas are \" + str(regions_dict))\n",
    "    \n",
    "get_regions(region)"
   ]
  },
  {
   "cell_type": "code",
   "execution_count": 141,
   "metadata": {},
   "outputs": [
    {
     "name": "stdout",
     "output_type": "stream",
     "text": [
      "The average cost for each region is {'southwest': 4012597, 'southeast': 5363505, 'northwest': 4035548, 'northeast': 4343515}\n",
      "Total charges over all regions is 17755165\n"
     ]
    }
   ],
   "source": [
    "#Calculate average cost for each region:\n",
    "def region_cost(region, charges):\n",
    "    regions_charges = zip(region, charges)\n",
    "    regions_charges_list = list(regions_charges)\n",
    "    regions_list = []\n",
    "    regions_charges_dict = {}\n",
    "    \n",
    "    for i in region:\n",
    "        if i not in regions_list:\n",
    "            regions_list.append(i)\n",
    "            \n",
    "    for i in regions_list:\n",
    "        if i not in regions_charges_dict:\n",
    "            regions_charges_dict[i] = 0\n",
    "    \n",
    "    for region in regions_charges_list:\n",
    "        if region[0] in regions_charges_dict:\n",
    "            regions_charges_dict[region[0]] += int(region[1])\n",
    "    \n",
    "    print(\"The average cost for each region is \" + str(regions_charges_dict))\n",
    "    print(\"Total charges over all regions is \" + str(sum(regions_charges_dict.values())))\n",
    "    \n",
    "region_cost(region, charges)"
   ]
  },
  {
   "cell_type": "code",
   "execution_count": 118,
   "metadata": {},
   "outputs": [
    {
     "name": "stdout",
     "output_type": "stream",
     "text": [
      "{'male': 676, 'female': 662}\n"
     ]
    }
   ],
   "source": [
    "#Count males and females and total up\n",
    "def male_female_counter(sex):\n",
    "    male_female_dict = {'male' : 0, 'female': 0}\n",
    "    \n",
    "    for i in sex:\n",
    "        if i in male_female_dict:\n",
    "            male_female_dict[i] += 1\n",
    "    \n",
    "    print(male_female_dict)\n",
    "\n",
    "male_female_counter(sex)"
   ]
  },
  {
   "cell_type": "code",
   "execution_count": 135,
   "metadata": {},
   "outputs": [
    {
     "name": "stdout",
     "output_type": "stream",
     "text": [
      "{'male_smoker': 159, 'male_non_smoker': 517, 'female_smoker': 115, 'female_non_smoker': 547}\n",
      "The averge for male smoker is 0.24 and for female smokers is 0.17\n"
     ]
    }
   ],
   "source": [
    "#Male smokers vs female smokers\n",
    "def male_female_smokers(sex, smoker):\n",
    "    smokers_zip = zip(sex, smoker)\n",
    "    smokers_list = list(smokers_zip)\n",
    "    smokers_dict = {'male_smoker' : 0, 'male_non_smoker' : 0, 'female_smoker': 0,  'female_non_smoker': 0 }\n",
    "    \n",
    "    for i in smokers_list:\n",
    "        if i[0] == 'female' and i[1] == 'yes':\n",
    "            smokers_dict['female_smoker'] += 1\n",
    "        \n",
    "        if i[0] == 'female' and i[1] == 'no':\n",
    "            smokers_dict['female_non_smoker'] += 1\n",
    "\n",
    "        if i[0] == 'male' and i[1] == 'yes':\n",
    "            smokers_dict['male_smoker'] += 1\n",
    "            \n",
    "        if i[0] == 'male' and i[1] == 'no':\n",
    "            smokers_dict['male_non_smoker'] += 1\n",
    "    \n",
    "    avg_male_smoker = round(smokers_dict['male_smoker'] / (smokers_dict['male_smoker'] + smokers_dict['male_non_smoker']),2)\n",
    "    avg_female_smoker = round(smokers_dict['female_smoker'] / (smokers_dict['female_smoker'] + smokers_dict['female_non_smoker']),2)\n",
    "    \n",
    "    print(smokers_dict)\n",
    "    print(\"The averge for male smoker is \" + str(avg_male_smoker) + \" and for female smokers is \" + str(avg_female_smoker))\n",
    "    \n",
    "male_female_smokers(sex, smoker)"
   ]
  }
 ],
 "metadata": {
  "kernelspec": {
   "display_name": "Python 3 (ipykernel)",
   "language": "python",
   "name": "python3"
  },
  "language_info": {
   "codemirror_mode": {
    "name": "ipython",
    "version": 3
   },
   "file_extension": ".py",
   "mimetype": "text/x-python",
   "name": "python",
   "nbconvert_exporter": "python",
   "pygments_lexer": "ipython3",
   "version": "3.11.5"
  }
 },
 "nbformat": 4,
 "nbformat_minor": 4
}
